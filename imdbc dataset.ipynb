{
 "cells": [
  {
   "cell_type": "code",
   "execution_count": null,
   "id": "ffd3200d",
   "metadata": {},
   "outputs": [],
   "source": [
    "import pandas as pd \n",
    "import seaborn as sns \n",
    "import matplotlib.pyplot as plt "
   ]
  },
  {
   "cell_type": "code",
   "execution_count": null,
   "id": "06d8f969",
   "metadata": {},
   "outputs": [],
   "source": [
    "data=pd.read_csv(r\"C:\\Users\\ASUS\\Downloads\\IMDB-Movie-Data.csv\", encoding='latin1')\n"
   ]
  },
  {
   "cell_type": "code",
   "execution_count": null,
   "id": "6d482875",
   "metadata": {},
   "outputs": [],
   "source": [
    "# displaying top 10 rows of the dataset \n",
    "data.head()"
   ]
  },
  {
   "cell_type": "code",
   "execution_count": null,
   "id": "e48e227e",
   "metadata": {},
   "outputs": [],
   "source": [
    "# display last 10 rows of the dataset\n",
    "data.tail(10)"
   ]
  },
  {
   "cell_type": "code",
   "execution_count": null,
   "id": "290881c1",
   "metadata": {},
   "outputs": [],
   "source": [
    "# shape of our dataset\n",
    "print(\"number of rows\",data.shape[0]) \n",
    "print(\"number of columns\",data.shape[1])"
   ]
  },
  {
   "cell_type": "code",
   "execution_count": null,
   "id": "fdf73f52",
   "metadata": {},
   "outputs": [],
   "source": [
    "# getting information about our dataset like datatype of each column memory requirements \n",
    "data.info()"
   ]
  },
  {
   "cell_type": "code",
   "execution_count": null,
   "id": "dd5c1402",
   "metadata": {},
   "outputs": [],
   "source": [
    "# checking missing values in ouur dataset\n",
    "print(\"is there any missing value\",data.isnull().values.any())"
   ]
  },
  {
   "cell_type": "code",
   "execution_count": null,
   "id": "fbbe1d7e",
   "metadata": {},
   "outputs": [],
   "source": [
    "data.isnull().sum()"
   ]
  },
  {
   "cell_type": "code",
   "execution_count": null,
   "id": "c98853e5",
   "metadata": {},
   "outputs": [],
   "source": [
    "#visualisng \n",
    "sns.heatmap(data.isnull())"
   ]
  },
  {
   "cell_type": "code",
   "execution_count": null,
   "id": "f000d0f5",
   "metadata": {},
   "outputs": [],
   "source": [
    "# finding missing values in percentage \n",
    "per_missing=data.isnull()*100/len (data)\n",
    "per_missing.sum()"
   ]
  },
  {
   "cell_type": "code",
   "execution_count": null,
   "id": "8f88a027",
   "metadata": {},
   "outputs": [],
   "source": [
    "# dropping all the missing values \n",
    "data.dropna(axis=0,inplace=True)"
   ]
  },
  {
   "cell_type": "code",
   "execution_count": null,
   "id": "62804470",
   "metadata": {},
   "outputs": [],
   "source": [
    "# checking for duplicated values \n",
    "dup_data=data.duplicated().any()"
   ]
  },
  {
   "cell_type": "code",
   "execution_count": null,
   "id": "39064900",
   "metadata": {},
   "outputs": [],
   "source": [
    "print(\"are there any duplicated values\",dup_data)\n",
    "# if there was any duplicated values we can drop it by using data.drop_duplicates()"
   ]
  },
  {
   "cell_type": "code",
   "execution_count": null,
   "id": "68d1d675",
   "metadata": {},
   "outputs": [],
   "source": [
    "# to get overall statistics about our dataset \n",
    "data.describe()"
   ]
  },
  {
   "cell_type": "code",
   "execution_count": null,
   "id": "a49068a3",
   "metadata": {},
   "outputs": [],
   "source": [
    "#display title of the movie having runtime > = 180 minutes\n",
    "data.columns"
   ]
  },
  {
   "cell_type": "code",
   "execution_count": null,
   "id": "4780019e",
   "metadata": {},
   "outputs": [],
   "source": [
    "data[data['Runtime (Minutes)']>=180]['Title']"
   ]
  },
  {
   "cell_type": "code",
   "execution_count": null,
   "id": "88036dc5",
   "metadata": {},
   "outputs": [],
   "source": [
    "# in which year there was the highest average voting\n",
    "data.columns \n"
   ]
  },
  {
   "cell_type": "code",
   "execution_count": null,
   "id": "ba15de58",
   "metadata": {},
   "outputs": [],
   "source": [
    "data.groupby('Year')['Votes'].mean().sort_values(ascending=False)"
   ]
  },
  {
   "cell_type": "code",
   "execution_count": null,
   "id": "41ce06c4",
   "metadata": {},
   "outputs": [],
   "source": [
    "# visualising it \n",
    "sns.barplot(x=('Year'),y=('Votes'),data=data,palette='viridis')\n",
    "plt.title(\"votes by year \")\n",
    "plt.show()"
   ]
  },
  {
   "cell_type": "code",
   "execution_count": null,
   "id": "a36a0d03",
   "metadata": {},
   "outputs": [],
   "source": [
    "# in which year there was the highest revenue \n",
    "data.columns"
   ]
  },
  {
   "cell_type": "code",
   "execution_count": null,
   "id": "2ac026f4",
   "metadata": {},
   "outputs": [],
   "source": [
    "data.groupby('Year') ['Revenue (Millions)'].mean().sort_values(ascending=False)"
   ]
  },
  {
   "cell_type": "code",
   "execution_count": null,
   "id": "1721e398",
   "metadata": {},
   "outputs": [],
   "source": [
    "sns.barplot(x=('Year'),y=('Revenue (Millions)'),data=data,palette=\"deep\")"
   ]
  },
  {
   "cell_type": "code",
   "execution_count": null,
   "id": "3eef8c1c",
   "metadata": {},
   "outputs": [],
   "source": [
    "# to find the average rating for each director \n",
    "data.columns"
   ]
  },
  {
   "cell_type": "code",
   "execution_count": null,
   "id": "c47c0246",
   "metadata": {},
   "outputs": [],
   "source": [
    "data.groupby('Director')['Rating'].mean().sort_values(ascending=False)"
   ]
  },
  {
   "cell_type": "code",
   "execution_count": null,
   "id": "06724ee4",
   "metadata": {},
   "outputs": [],
   "source": [
    "# to display top 10 lengthy movies title and runtime \n",
    "data.columns \n"
   ]
  },
  {
   "cell_type": "code",
   "execution_count": null,
   "id": "60aaf8b0",
   "metadata": {},
   "outputs": [],
   "source": [
    "# using nlargest method \n",
    "top10_len=data.nlargest(10,'Runtime (Minutes)')[['Title','Runtime (Minutes)']]\\\n",
    ".set_index('Title')"
   ]
  },
  {
   "cell_type": "code",
   "execution_count": null,
   "id": "1c76b4e5",
   "metadata": {},
   "outputs": [],
   "source": [
    "print(top10_len)"
   ]
  },
  {
   "cell_type": "code",
   "execution_count": null,
   "id": "ebacf6cf",
   "metadata": {},
   "outputs": [],
   "source": [
    "# visualising\n",
    "sns.barplot(x='Runtime (Minutes)',y='top10_len'.index,data=top10_len, palette='coolwarm')\n"
   ]
  },
  {
   "cell_type": "code",
   "execution_count": null,
   "id": "188aab0a",
   "metadata": {},
   "outputs": [],
   "source": [
    "plt.figure(figsize=(10, 6))\n",
    "bars = plt.barh(top10_len.index, top10_len['Runtime (Minutes)'], color=plt.cm.Paired(range(10)))\n"
   ]
  },
  {
   "cell_type": "code",
   "execution_count": null,
   "id": "201658b4",
   "metadata": {},
   "outputs": [],
   "source": [
    "# displaying number of movies per year \n",
    "data.columns\n",
    "\n"
   ]
  },
  {
   "cell_type": "code",
   "execution_count": null,
   "id": "06c150a9",
   "metadata": {},
   "outputs": [],
   "source": [
    "data['Year'].value_counts()"
   ]
  },
  {
   "cell_type": "code",
   "execution_count": null,
   "id": "75eeb295",
   "metadata": {},
   "outputs": [],
   "source": [
    "sns.countplot(x='Year',data=data,palette='Set3')\n",
    "plt.title(\"number of movies per year\")\n",
    "plt.show "
   ]
  },
  {
   "cell_type": "code",
   "execution_count": null,
   "id": "6a5c1369",
   "metadata": {},
   "outputs": [],
   "source": [
    "# find most popular movie title ('highest revenue')\n",
    "\n",
    "data.columns"
   ]
  },
  {
   "cell_type": "code",
   "execution_count": null,
   "id": "b5eb2b03",
   "metadata": {},
   "outputs": [],
   "source": [
    "data[data[ 'Revenue (Millions)'].max()==data[ 'Revenue (Millions)' ]]['Title']"
   ]
  },
  {
   "cell_type": "code",
   "execution_count": null,
   "id": "ee311861",
   "metadata": {},
   "outputs": [],
   "source": [
    "# top 10 highest rated movies titles and its directors \n",
    "data.columns"
   ]
  },
  {
   "cell_type": "code",
   "execution_count": null,
   "id": "46f0ab86",
   "metadata": {},
   "outputs": [],
   "source": [
    "top10_len=data.nlargest(10,'Rating') [['Title','Rating','Director']]"
   ]
  },
  {
   "cell_type": "code",
   "execution_count": null,
   "id": "9f83ec92",
   "metadata": {},
   "outputs": [],
   "source": [
    "top10_len"
   ]
  },
  {
   "cell_type": "code",
   "execution_count": null,
   "id": "081e6455",
   "metadata": {},
   "outputs": [],
   "source": [
    "sns.barplot(x='Rating',y=top10_len.index,data=top10_len,palette='Set3',hue='Director')"
   ]
  },
  {
   "cell_type": "code",
   "execution_count": null,
   "id": "7477a91f",
   "metadata": {},
   "outputs": [],
   "source": [
    "# top 10 highest revenue movies titles\n",
    "data.nlargest(10,'Revenue (Millions)')['Title']"
   ]
  },
  {
   "cell_type": "code",
   "execution_count": null,
   "id": "6e2d9163",
   "metadata": {},
   "outputs": [],
   "source": [
    "top_10=data.nlargest(10,'Revenue (Millions)')[['Title','Revenue (Millions)']]\\\n",
    ".set_index('Title')"
   ]
  },
  {
   "cell_type": "code",
   "execution_count": null,
   "id": "da750dba",
   "metadata": {},
   "outputs": [],
   "source": [
    "top_10"
   ]
  },
  {
   "cell_type": "code",
   "execution_count": null,
   "id": "506d48c9",
   "metadata": {},
   "outputs": [],
   "source": [
    "# visualising \n",
    "sns.barplot(x='Revenue (Millions)',y=top_10.index,data=top_10,palette='Set2')\n",
    "plt.title(\"top 10 highest movie title\")\n",
    "plt.show()"
   ]
  },
  {
   "cell_type": "code",
   "execution_count": null,
   "id": "2a252f4f",
   "metadata": {},
   "outputs": [],
   "source": [
    "# average rating of movies year wise \n",
    "data.columns"
   ]
  },
  {
   "cell_type": "code",
   "execution_count": null,
   "id": "7e498fe4",
   "metadata": {},
   "outputs": [],
   "source": [
    "data.groupby('Year')['Rating'].mean().sort_values(ascending=False)"
   ]
  },
  {
   "cell_type": "code",
   "execution_count": null,
   "id": "ade85b84",
   "metadata": {},
   "outputs": [],
   "source": [
    "# does rating affect revenue \n",
    "sns.scatterplot(x='Rating',y='Revenue (Millions)',data=data)\n"
   ]
  },
  {
   "cell_type": "code",
   "execution_count": null,
   "id": "eb3ad682",
   "metadata": {},
   "outputs": [],
   "source": [
    "# by looking at this scatter plot rating does affect the revenue \n"
   ]
  },
  {
   "cell_type": "code",
   "execution_count": null,
   "id": "e170e68a",
   "metadata": {},
   "outputs": [],
   "source": [
    "# calssify movies based on their rartings ( average , good , excellent )\n",
    "def rating(rating):\n",
    "    if rating >=7.0:\n",
    "        return \"Excellent\"\n",
    "    elif rating>=6.0:\n",
    "        return \"Good\"\n",
    "    else  :\n",
    "        return \"average\" "
   ]
  },
  {
   "cell_type": "code",
   "execution_count": null,
   "id": "756fe019",
   "metadata": {},
   "outputs": [],
   "source": [
    "data['rating_cat']=data[\"Rating\"].apply(rating)"
   ]
  },
  {
   "cell_type": "code",
   "execution_count": null,
   "id": "654311e4",
   "metadata": {},
   "outputs": [],
   "source": [
    "data.head()"
   ]
  },
  {
   "cell_type": "code",
   "execution_count": null,
   "id": "875fda05",
   "metadata": {},
   "outputs": [],
   "source": [
    "# count number of action movies \n",
    "data.columns"
   ]
  },
  {
   "cell_type": "code",
   "execution_count": null,
   "id": "774c7c99",
   "metadata": {},
   "outputs": [],
   "source": [
    "data['Genre'].dtype"
   ]
  },
  {
   "cell_type": "code",
   "execution_count": null,
   "id": "17ca67d0",
   "metadata": {},
   "outputs": [],
   "source": [
    "len(data[data['Genre'].str.contains('Action',case=False)])"
   ]
  },
  {
   "cell_type": "code",
   "execution_count": null,
   "id": "630bef79",
   "metadata": {},
   "outputs": [],
   "source": [
    "#"
   ]
  },
  {
   "cell_type": "code",
   "execution_count": null,
   "id": "23bb77cb",
   "metadata": {},
   "outputs": [],
   "source": []
  }
 ],
 "metadata": {
  "kernelspec": {
   "display_name": "base",
   "language": "python",
   "name": "python3"
  },
  "language_info": {
   "codemirror_mode": {
    "name": "ipython",
    "version": 3
   },
   "file_extension": ".py",
   "mimetype": "text/x-python",
   "name": "python",
   "nbconvert_exporter": "python",
   "pygments_lexer": "ipython3",
   "version": "3.13.5"
  }
 },
 "nbformat": 4,
 "nbformat_minor": 5
}
